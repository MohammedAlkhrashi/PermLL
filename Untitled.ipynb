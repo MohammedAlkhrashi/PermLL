{
 "cells": [
  {
   "cell_type": "code",
   "execution_count": 4,
   "id": "aa11b23c",
   "metadata": {},
   "outputs": [],
   "source": [
    "import torch"
   ]
  },
  {
   "cell_type": "code",
   "execution_count": 5,
   "id": "de1abae3",
   "metadata": {},
   "outputs": [],
   "source": [
    "def create_all_perm(num_classes):\n",
    "    classes_set = set(range(num_classes))\n",
    "    I = torch.eye(num_classes)\n",
    "    perm_list = []\n",
    "    for target in classes_set:\n",
    "        l1 = list(classes_set - set([target]))\n",
    "        one_class_perm_list = []\n",
    "        for idx in range(len(l1)+1):\n",
    "            l2 = l1.copy()\n",
    "            l2.insert(idx,target)\n",
    "            perm = I[l2]\n",
    "            one_class_perm_list.append(perm)\n",
    "        one_class_perm = torch.stack(one_class_perm_list)\n",
    "        perm_list.append(one_class_perm)\n",
    "    perm = torch.stack(perm_list)\n",
    "    return perm"
   ]
  },
  {
   "cell_type": "code",
   "execution_count": 39,
   "id": "a1098541",
   "metadata": {},
   "outputs": [],
   "source": [
    "def create_all_perm_2(num_classes):\n",
    "    classes_list = list(range(num_classes))\n",
    "    print(num_classes)\n",
    "    print(len(classes_list))\n",
    "    I = torch.eye(num_classes)\n",
    "    perm_list = []\n",
    "    for i in range(len(classes_list)):\n",
    "        one_class_perm_list = []\n",
    "        for j in range(len(classes_list)):\n",
    "            l1 = classes_list.copy()\n",
    "            l1 = swapPositions(l1, i, j)\n",
    "            perm = I[l1]\n",
    "            one_class_perm_list.append(perm)\n",
    "        one_class_perm = torch.stack(one_class_perm_list)\n",
    "        perm_list.append(one_class_perm)\n",
    "    perm = torch.stack(perm_list)\n",
    "    return perm"
   ]
  },
  {
   "cell_type": "code",
   "execution_count": 34,
   "id": "472760f8",
   "metadata": {},
   "outputs": [],
   "source": [
    "classes_list = list(range(num_classes))\n",
    "for i in range(len(classes_list)):\n",
    "    for j in range(len(classes_list)):\n",
    "        if i == j:\n",
    "            pass\n",
    "        l1 = classes_list.copy()\n",
    "        l1 = swapPositions(l1, i, j)"
   ]
  },
  {
   "cell_type": "code",
   "execution_count": 38,
   "id": "a58a3784",
   "metadata": {},
   "outputs": [
    {
     "data": {
      "text/plain": [
       "3"
      ]
     },
     "execution_count": 38,
     "metadata": {},
     "output_type": "execute_result"
    }
   ],
   "source": [
    "len(classes_list)"
   ]
  },
  {
   "cell_type": "code",
   "execution_count": 40,
   "id": "58b1772c",
   "metadata": {},
   "outputs": [
    {
     "name": "stdout",
     "output_type": "stream",
     "text": [
      "4\n",
      "4\n"
     ]
    },
    {
     "data": {
      "text/plain": [
       "tensor([[[0., 0., 1., 0.],\n",
       "         [0., 1., 0., 0.],\n",
       "         [1., 0., 0., 0.],\n",
       "         [0., 0., 0., 1.]],\n",
       "\n",
       "        [[1., 0., 0., 0.],\n",
       "         [0., 0., 1., 0.],\n",
       "         [0., 1., 0., 0.],\n",
       "         [0., 0., 0., 1.]],\n",
       "\n",
       "        [[1., 0., 0., 0.],\n",
       "         [0., 1., 0., 0.],\n",
       "         [0., 0., 1., 0.],\n",
       "         [0., 0., 0., 1.]],\n",
       "\n",
       "        [[1., 0., 0., 0.],\n",
       "         [0., 1., 0., 0.],\n",
       "         [0., 0., 0., 1.],\n",
       "         [0., 0., 1., 0.]]])"
      ]
     },
     "execution_count": 40,
     "metadata": {},
     "output_type": "execute_result"
    }
   ],
   "source": [
    "create_all_perm_2(4)[2]"
   ]
  },
  {
   "cell_type": "code",
   "execution_count": 8,
   "id": "1719d69d",
   "metadata": {},
   "outputs": [],
   "source": [
    "def swap_positions(list_, pos1, pos2):\n",
    "    list_[pos1], list_[pos2] = list_[pos2], list_[pos1]\n",
    "    return list_"
   ]
  },
  {
   "cell_type": "code",
   "execution_count": 12,
   "id": "3f33082a",
   "metadata": {},
   "outputs": [],
   "source": [
    "l = [0,11,22,33]"
   ]
  },
  {
   "cell_type": "code",
   "execution_count": 15,
   "id": "34b7898f",
   "metadata": {},
   "outputs": [],
   "source": [
    "z = l.pop(1)"
   ]
  },
  {
   "cell_type": "code",
   "execution_count": 14,
   "id": "edc6cde1",
   "metadata": {},
   "outputs": [
    {
     "data": {
      "text/plain": [
       "[0, 22, 33]"
      ]
     },
     "execution_count": 14,
     "metadata": {},
     "output_type": "execute_result"
    }
   ],
   "source": [
    "l"
   ]
  },
  {
   "cell_type": "code",
   "execution_count": null,
   "id": "0cbb7fcf",
   "metadata": {},
   "outputs": [],
   "source": []
  },
  {
   "cell_type": "code",
   "execution_count": 16,
   "id": "d981bb86",
   "metadata": {},
   "outputs": [
    {
     "data": {
      "text/plain": [
       "22"
      ]
     },
     "execution_count": 16,
     "metadata": {},
     "output_type": "execute_result"
    }
   ],
   "source": [
    "z"
   ]
  },
  {
   "cell_type": "code",
   "execution_count": 20,
   "id": "5f66c61a",
   "metadata": {},
   "outputs": [
    {
     "name": "stdout",
     "output_type": "stream",
     "text": [
      "[0, 1, 2]\n",
      "[1, 0, 2]\n",
      "[2, 1, 0]\n",
      "[1, 0, 2]\n",
      "[0, 1, 2]\n",
      "[0, 2, 1]\n",
      "[2, 1, 0]\n",
      "[0, 2, 1]\n",
      "[0, 1, 2]\n"
     ]
    }
   ],
   "source": [
    "num_classes = 3\n",
    "classes_list = list(range(num_classes))\n",
    "for i in range(len(classes_list)):\n",
    "    for j in range(len(classes_list)):\n",
    "        if i == j:\n",
    "            pass\n",
    "        l1 = classes_list.copy()\n",
    "        l1 = swapPositions(l1, i, j)\n",
    "        print(l1)"
   ]
  },
  {
   "cell_type": "code",
   "execution_count": 30,
   "id": "2c996510",
   "metadata": {},
   "outputs": [
    {
     "data": {
      "text/plain": [
       "[0, 1, 2]"
      ]
     },
     "execution_count": 30,
     "metadata": {},
     "output_type": "execute_result"
    }
   ],
   "source": [
    "l1"
   ]
  },
  {
   "cell_type": "code",
   "execution_count": 32,
   "id": "d8dc17ba",
   "metadata": {},
   "outputs": [
    {
     "data": {
      "text/plain": [
       "[0, 1, 2]"
      ]
     },
     "execution_count": 32,
     "metadata": {},
     "output_type": "execute_result"
    }
   ],
   "source": [
    "swapPositions(l1, 1, 1)"
   ]
  },
  {
   "cell_type": "code",
   "execution_count": 41,
   "id": "52f60c59",
   "metadata": {},
   "outputs": [],
   "source": [
    "s = torch.nn.Softmax()"
   ]
  },
  {
   "cell_type": "code",
   "execution_count": 48,
   "id": "c19328b3",
   "metadata": {},
   "outputs": [
    {
     "name": "stderr",
     "output_type": "stream",
     "text": [
      "<ipython-input-48-aa569aa0a8a5>:1: UserWarning: Implicit dimension choice for softmax has been deprecated. Change the call to include dim=X as an argument.\n",
      "  s(torch.tensor([5, 1,1,1,1,1,1,1,1,1], dtype=torch.float32))\n"
     ]
    },
    {
     "data": {
      "text/plain": [
       "tensor([0.8585, 0.0157, 0.0157, 0.0157, 0.0157, 0.0157, 0.0157, 0.0157, 0.0157,\n",
       "        0.0157])"
      ]
     },
     "execution_count": 48,
     "metadata": {},
     "output_type": "execute_result"
    }
   ],
   "source": [
    "s(torch.tensor([5, 1,1,1,1,1,1,1,1,1], dtype=torch.float32))"
   ]
  },
  {
   "cell_type": "code",
   "execution_count": null,
   "id": "5a8a42bd",
   "metadata": {},
   "outputs": [],
   "source": []
  }
 ],
 "metadata": {
  "kernelspec": {
   "display_name": "Python 3",
   "language": "python",
   "name": "python3"
  },
  "language_info": {
   "codemirror_mode": {
    "name": "ipython",
    "version": 3
   },
   "file_extension": ".py",
   "mimetype": "text/x-python",
   "name": "python",
   "nbconvert_exporter": "python",
   "pygments_lexer": "ipython3",
   "version": "3.8.10"
  }
 },
 "nbformat": 4,
 "nbformat_minor": 5
}
