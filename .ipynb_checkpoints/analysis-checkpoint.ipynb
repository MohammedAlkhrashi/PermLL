{
 "cells": [
  {
   "cell_type": "code",
   "execution_count": 20,
   "id": "9cf2490d",
   "metadata": {},
   "outputs": [],
   "source": [
    "import os\n",
    "path = 'stats_logs/glowing-galaxy-388/'\n",
    "\n",
    "\n",
    "all_clean_labels = torch.load(os.path.join(path, 'all_clean_labels.pt'))\n",
    "all_noisy_labels = torch.load(os.path.join(path, 'all_noisy_labels.pt'))\n",
    "alpha_matrix = torch.load(os.path.join(path, 'alpha_matrix.pt'))"
   ]
  },
  {
   "cell_type": "code",
   "execution_count": null,
   "id": "d5cf0241",
   "metadata": {},
   "outputs": [],
   "source": []
  }
 ],
 "metadata": {
  "kernelspec": {
   "display_name": "Python 3 (ipykernel)",
   "language": "python",
   "name": "python3"
  },
  "language_info": {
   "codemirror_mode": {
    "name": "ipython",
    "version": 3
   },
   "file_extension": ".py",
   "mimetype": "text/x-python",
   "name": "python",
   "nbconvert_exporter": "python",
   "pygments_lexer": "ipython3",
   "version": "3.10.3"
  }
 },
 "nbformat": 4,
 "nbformat_minor": 5
}
