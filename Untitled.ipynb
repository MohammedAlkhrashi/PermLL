{
 "cells": [
  {
   "cell_type": "code",
   "execution_count": 4,
   "id": "cecabe39",
   "metadata": {},
   "outputs": [],
   "source": [
    "import torch"
   ]
  },
  {
   "cell_type": "code",
   "execution_count": 5,
   "id": "7910bb41",
   "metadata": {},
   "outputs": [],
   "source": [
    "def create_all_perm(num_classes):\n",
    "    classes_set = set(range(num_classes))\n",
    "    I = torch.eye(num_classes)\n",
    "    perm_list = []\n",
    "    for target in classes_set:\n",
    "        l1 = list(classes_set - set([target]))\n",
    "        one_class_perm_list = []\n",
    "        for idx in range(len(l1)+1):\n",
    "            l2 = l1.copy()\n",
    "            l2.insert(idx,target)\n",
    "            perm = I[l2]\n",
    "            one_class_perm_list.append(perm)\n",
    "        one_class_perm = torch.stack(one_class_perm_list)\n",
    "        perm_list.append(one_class_perm)\n",
    "    perm = torch.stack(perm_list)\n",
    "    return perm"
   ]
  },
  {
   "cell_type": "code",
   "execution_count": 39,
   "id": "5500c5e5",
   "metadata": {},
   "outputs": [],
   "source": [
    "def create_all_perm_2(num_classes):\n",
    "    classes_list = list(range(num_classes))\n",
    "    print(num_classes)\n",
    "    print(len(classes_list))\n",
    "    I = torch.eye(num_classes)\n",
    "    perm_list = []\n",
    "    for i in range(len(classes_list)):\n",
    "        one_class_perm_list = []\n",
    "        for j in range(len(classes_list)):\n",
    "            l1 = classes_list.copy()\n",
    "            l1 = swapPositions(l1, i, j)\n",
    "            perm = I[l1]\n",
    "            one_class_perm_list.append(perm)\n",
    "        one_class_perm = torch.stack(one_class_perm_list)\n",
    "        perm_list.append(one_class_perm)\n",
    "    perm = torch.stack(perm_list)\n",
    "    return perm"
   ]
  },
  {
   "cell_type": "code",
   "execution_count": 34,
   "id": "4e61ceb6",
   "metadata": {},
   "outputs": [],
   "source": [
    "classes_list = list(range(num_classes))\n",
    "for i in range(len(classes_list)):\n",
    "    for j in range(len(classes_list)):\n",
    "        if i == j:\n",
    "            pass\n",
    "        l1 = classes_list.copy()\n",
    "        l1 = swapPositions(l1, i, j)"
   ]
  },
  {
   "cell_type": "code",
   "execution_count": 38,
   "id": "5534cbe3",
   "metadata": {},
   "outputs": [
    {
     "data": {
      "text/plain": [
       "3"
      ]
     },
     "execution_count": 38,
     "metadata": {},
     "output_type": "execute_result"
    }
   ],
   "source": [
    "len(classes_list)"
   ]
  },
  {
   "cell_type": "code",
   "execution_count": 40,
   "id": "21b0062e",
   "metadata": {},
   "outputs": [
    {
     "name": "stdout",
     "output_type": "stream",
     "text": [
      "4\n",
      "4\n"
     ]
    },
    {
     "data": {
      "text/plain": [
       "tensor([[[0., 0., 1., 0.],\n",
       "         [0., 1., 0., 0.],\n",
       "         [1., 0., 0., 0.],\n",
       "         [0., 0., 0., 1.]],\n",
       "\n",
       "        [[1., 0., 0., 0.],\n",
       "         [0., 0., 1., 0.],\n",
       "         [0., 1., 0., 0.],\n",
       "         [0., 0., 0., 1.]],\n",
       "\n",
       "        [[1., 0., 0., 0.],\n",
       "         [0., 1., 0., 0.],\n",
       "         [0., 0., 1., 0.],\n",
       "         [0., 0., 0., 1.]],\n",
       "\n",
       "        [[1., 0., 0., 0.],\n",
       "         [0., 1., 0., 0.],\n",
       "         [0., 0., 0., 1.],\n",
       "         [0., 0., 1., 0.]]])"
      ]
     },
     "execution_count": 40,
     "metadata": {},
     "output_type": "execute_result"
    }
   ],
   "source": [
    "create_all_perm_2(4)[2]"
   ]
  },
  {
   "cell_type": "code",
   "execution_count": 8,
   "id": "69b6c86b",
   "metadata": {},
   "outputs": [],
   "source": [
    "def swap_positions(list_, pos1, pos2):\n",
    "    list_[pos1], list_[pos2] = list_[pos2], list_[pos1]\n",
    "    return list_"
   ]
  },
  {
   "cell_type": "code",
   "execution_count": 12,
   "id": "232f9a86",
   "metadata": {},
   "outputs": [],
   "source": [
    "l = [0,11,22,33]"
   ]
  },
  {
   "cell_type": "code",
   "execution_count": 15,
   "id": "2d8a5ba7",
   "metadata": {},
   "outputs": [],
   "source": [
    "z = l.pop(1)"
   ]
  },
  {
   "cell_type": "code",
   "execution_count": 14,
   "id": "a9c748d9",
   "metadata": {},
   "outputs": [
    {
     "data": {
      "text/plain": [
       "[0, 22, 33]"
      ]
     },
     "execution_count": 14,
     "metadata": {},
     "output_type": "execute_result"
    }
   ],
   "source": [
    "l"
   ]
  },
  {
   "cell_type": "code",
   "execution_count": null,
   "id": "597d39b7",
   "metadata": {},
   "outputs": [],
   "source": []
  },
  {
   "cell_type": "code",
   "execution_count": 16,
   "id": "dfd65714",
   "metadata": {},
   "outputs": [
    {
     "data": {
      "text/plain": [
       "22"
      ]
     },
     "execution_count": 16,
     "metadata": {},
     "output_type": "execute_result"
    }
   ],
   "source": [
    "z"
   ]
  },
  {
   "cell_type": "code",
   "execution_count": 20,
   "id": "d6ae8629",
   "metadata": {},
   "outputs": [
    {
     "name": "stdout",
     "output_type": "stream",
     "text": [
      "[0, 1, 2]\n",
      "[1, 0, 2]\n",
      "[2, 1, 0]\n",
      "[1, 0, 2]\n",
      "[0, 1, 2]\n",
      "[0, 2, 1]\n",
      "[2, 1, 0]\n",
      "[0, 2, 1]\n",
      "[0, 1, 2]\n"
     ]
    }
   ],
   "source": [
    "num_classes = 3\n",
    "classes_list = list(range(num_classes))\n",
    "for i in range(len(classes_list)):\n",
    "    for j in range(len(classes_list)):\n",
    "        if i == j:\n",
    "            pass\n",
    "        l1 = classes_list.copy()\n",
    "        l1 = swapPositions(l1, i, j)\n",
    "        print(l1)"
   ]
  },
  {
   "cell_type": "code",
   "execution_count": 30,
   "id": "d43b0b74",
   "metadata": {},
   "outputs": [
    {
     "data": {
      "text/plain": [
       "[0, 1, 2]"
      ]
     },
     "execution_count": 30,
     "metadata": {},
     "output_type": "execute_result"
    }
   ],
   "source": [
    "l1"
   ]
  },
  {
   "cell_type": "code",
   "execution_count": 32,
   "id": "5d935fbf",
   "metadata": {},
   "outputs": [
    {
     "data": {
      "text/plain": [
       "[0, 1, 2]"
      ]
     },
     "execution_count": 32,
     "metadata": {},
     "output_type": "execute_result"
    }
   ],
   "source": [
    "swapPositions(l1, 1, 1)"
   ]
  },
  {
   "cell_type": "code",
   "execution_count": null,
   "id": "f1d8eed8",
   "metadata": {},
   "outputs": [],
   "source": []
  }
 ],
 "metadata": {
  "kernelspec": {
   "display_name": "Python 3",
   "language": "python",
   "name": "python3"
  },
  "language_info": {
   "codemirror_mode": {
    "name": "ipython",
    "version": 3
   },
   "file_extension": ".py",
   "mimetype": "text/x-python",
   "name": "python",
   "nbconvert_exporter": "python",
   "pygments_lexer": "ipython3",
   "version": "3.8.10"
  }
 },
 "nbformat": 4,
 "nbformat_minor": 5
}
